{
 "cells": [
  {
   "cell_type": "code",
   "execution_count": 53,
   "metadata": {
    "collapsed": true
   },
   "outputs": [],
   "source": [
    "import json\n",
    "import pandas as pd\n",
    "\n",
    "import numpy as np\n",
    "from dateutil import parser as dtparser\n",
    "from datetime import datetime\n",
    "import math\n",
    "import matplotlib.pyplot as plt\n",
    "import seaborn as sns"
   ]
  },
  {
   "cell_type": "code",
   "execution_count": 63,
   "metadata": {},
   "outputs": [
    {
     "data": {
      "text/html": [
       "<div>\n",
       "<style scoped>\n",
       "    .dataframe tbody tr th:only-of-type {\n",
       "        vertical-align: middle;\n",
       "    }\n",
       "\n",
       "    .dataframe tbody tr th {\n",
       "        vertical-align: top;\n",
       "    }\n",
       "\n",
       "    .dataframe thead th {\n",
       "        text-align: right;\n",
       "    }\n",
       "</style>\n",
       "<table border=\"1\" class=\"dataframe\">\n",
       "  <thead>\n",
       "    <tr style=\"text-align: right;\">\n",
       "      <th></th>\n",
       "      <th>login_time</th>\n",
       "    </tr>\n",
       "  </thead>\n",
       "  <tbody>\n",
       "    <tr>\n",
       "      <th>0</th>\n",
       "      <td>2010-01-01 00:11:52</td>\n",
       "    </tr>\n",
       "    <tr>\n",
       "      <th>1</th>\n",
       "      <td>2010-01-01 00:13:00</td>\n",
       "    </tr>\n",
       "    <tr>\n",
       "      <th>2</th>\n",
       "      <td>2010-01-01 00:14:49</td>\n",
       "    </tr>\n",
       "    <tr>\n",
       "      <th>3</th>\n",
       "      <td>2010-01-01 00:21:00</td>\n",
       "    </tr>\n",
       "    <tr>\n",
       "      <th>4</th>\n",
       "      <td>2010-01-01 00:23:05</td>\n",
       "    </tr>\n",
       "  </tbody>\n",
       "</table>\n",
       "</div>"
      ],
      "text/plain": [
       "           login_time\n",
       "0 2010-01-01 00:11:52\n",
       "1 2010-01-01 00:13:00\n",
       "2 2010-01-01 00:14:49\n",
       "3 2010-01-01 00:21:00\n",
       "4 2010-01-01 00:23:05"
      ]
     },
     "execution_count": 63,
     "metadata": {},
     "output_type": "execute_result"
    }
   ],
   "source": [
    "#Reading the json file\n",
    "url='logins2.json'\n",
    "df = pd.read_json(url, orient='columns')\n",
    "df.head()"
   ]
  },
  {
   "cell_type": "code",
   "execution_count": 64,
   "metadata": {},
   "outputs": [
    {
     "data": {
      "text/html": [
       "<div>\n",
       "<style scoped>\n",
       "    .dataframe tbody tr th:only-of-type {\n",
       "        vertical-align: middle;\n",
       "    }\n",
       "\n",
       "    .dataframe tbody tr th {\n",
       "        vertical-align: top;\n",
       "    }\n",
       "\n",
       "    .dataframe thead th {\n",
       "        text-align: right;\n",
       "    }\n",
       "</style>\n",
       "<table border=\"1\" class=\"dataframe\">\n",
       "  <thead>\n",
       "    <tr style=\"text-align: right;\">\n",
       "      <th></th>\n",
       "      <th>count</th>\n",
       "    </tr>\n",
       "    <tr>\n",
       "      <th>login_time</th>\n",
       "      <th></th>\n",
       "    </tr>\n",
       "  </thead>\n",
       "  <tbody>\n",
       "    <tr>\n",
       "      <th>2010-01-01 00:15:00</th>\n",
       "      <td>3</td>\n",
       "    </tr>\n",
       "    <tr>\n",
       "      <th>2010-01-01 00:30:00</th>\n",
       "      <td>3</td>\n",
       "    </tr>\n",
       "    <tr>\n",
       "      <th>2010-01-01 00:45:00</th>\n",
       "      <td>7</td>\n",
       "    </tr>\n",
       "    <tr>\n",
       "      <th>2010-01-01 01:00:00</th>\n",
       "      <td>7</td>\n",
       "    </tr>\n",
       "    <tr>\n",
       "      <th>2010-01-01 01:15:00</th>\n",
       "      <td>5</td>\n",
       "    </tr>\n",
       "  </tbody>\n",
       "</table>\n",
       "</div>"
      ],
      "text/plain": [
       "                     count\n",
       "login_time                \n",
       "2010-01-01 00:15:00      3\n",
       "2010-01-01 00:30:00      3\n",
       "2010-01-01 00:45:00      7\n",
       "2010-01-01 01:00:00      7\n",
       "2010-01-01 01:15:00      5"
      ]
     },
     "execution_count": 64,
     "metadata": {},
     "output_type": "execute_result"
    }
   ],
   "source": [
    "#Aggregating to 15 minute intervals\n",
    "df.index=df['login_time']\n",
    "df1=(pd.DataFrame())\n",
    "df1['count']=df.login_time.resample('15Min',label='right').count()\n",
    "df1.head()"
   ]
  },
  {
   "cell_type": "code",
   "execution_count": 65,
   "metadata": {},
   "outputs": [],
   "source": [
    "\n",
    "from math import sqrt\n",
    "from numpy import split\n",
    "from numpy import array\n",
    "from pandas import read_csv\n",
    "from sklearn.metrics import mean_squared_error\n",
    "from matplotlib import pyplot\n",
    "from keras.models import Sequential\n",
    "from keras.layers import Dense\n",
    "from keras.layers import Flatten\n",
    "from keras.layers import LSTM\n",
    "from keras.layers import RepeatVector\n",
    "from keras.layers import TimeDistributed\n",
    "from keras.layers import ConvLSTM2D"
   ]
  },
  {
   "cell_type": "code",
   "execution_count": 67,
   "metadata": {
    "collapsed": true
   },
   "outputs": [],
   "source": [
    "#Splitting data into train and test\n",
    "def split_dataset(data):\n",
    "    \n",
    "    train, test = data[0:20352], data[20352:]\n",
    "    # restructure into windows of hourly data\n",
    "    train = array(split(train, len(train)/4))\n",
    "    \n",
    "    test = array(split(test, len(test)/4))\n",
    "    return train, test"
   ]
  },
  {
   "cell_type": "code",
   "execution_count": 71,
   "metadata": {},
   "outputs": [
    {
     "name": "stdout",
     "output_type": "stream",
     "text": [
      "Epoch 1/20\n",
      "20336/20336 [==============================] - 55s 3ms/step - loss: 5.5436\n",
      "Epoch 2/20\n",
      "20336/20336 [==============================] - 51s 3ms/step - loss: 5.0938\n",
      "Epoch 3/20\n",
      "20336/20336 [==============================] - 51s 3ms/step - loss: 5.0857\n",
      "Epoch 4/20\n",
      "20336/20336 [==============================] - 44s 2ms/step - loss: 5.0750\n",
      "Epoch 5/20\n",
      "20336/20336 [==============================] - 52s 3ms/step - loss: 5.0710\n",
      "Epoch 6/20\n",
      "20336/20336 [==============================] - 55s 3ms/step - loss: 5.0550\n",
      "Epoch 7/20\n",
      "20336/20336 [==============================] - 57s 3ms/step - loss: 5.0546\n",
      "Epoch 8/20\n",
      "20336/20336 [==============================] - 50s 2ms/step - loss: 5.0471\n",
      "Epoch 9/20\n",
      "20336/20336 [==============================] - 39s 2ms/step - loss: 5.0339\n",
      "Epoch 10/20\n",
      "20336/20336 [==============================] - 39s 2ms/step - loss: 5.0263\n",
      "Epoch 11/20\n",
      "20336/20336 [==============================] - 39s 2ms/step - loss: 5.0212\n",
      "Epoch 12/20\n",
      "20336/20336 [==============================] - 44s 2ms/step - loss: 5.0232\n",
      "Epoch 13/20\n",
      "20336/20336 [==============================] - 56s 3ms/step - loss: 5.0080\n",
      "Epoch 14/20\n",
      "20336/20336 [==============================] - 55s 3ms/step - loss: 4.9976\n",
      "Epoch 15/20\n",
      "20336/20336 [==============================] - 54s 3ms/step - loss: 4.9870\n",
      "Epoch 16/20\n",
      "20336/20336 [==============================] - 55s 3ms/step - loss: 4.9839\n",
      "Epoch 17/20\n",
      "20336/20336 [==============================] - 55s 3ms/step - loss: 4.9705\n",
      "Epoch 18/20\n",
      "20336/20336 [==============================] - 55s 3ms/step - loss: 4.9558\n",
      "Epoch 19/20\n",
      "20336/20336 [==============================] - 55s 3ms/step - loss: 4.9408\n",
      "Epoch 20/20\n",
      "20336/20336 [==============================] - 56s 3ms/step - loss: 4.9282\n",
      "_________________________________________________________________\n",
      "Layer (type)                 Output Shape              Param #   \n",
      "=================================================================\n",
      "conv_lst_m2d_7 (ConvLSTM2D)  (None, 1, 2, 64)          50176     \n",
      "_________________________________________________________________\n",
      "flatten_7 (Flatten)          (None, 128)               0         \n",
      "_________________________________________________________________\n",
      "repeat_vector_7 (RepeatVecto (None, 4, 128)            0         \n",
      "_________________________________________________________________\n",
      "lstm_7 (LSTM)                (None, 4, 300)            514800    \n",
      "_________________________________________________________________\n",
      "time_distributed_13 (TimeDis (None, 4, 100)            30100     \n",
      "_________________________________________________________________\n",
      "time_distributed_14 (TimeDis (None, 4, 1)              101       \n",
      "=================================================================\n",
      "Total params: 595,177\n",
      "Trainable params: 595,177\n",
      "Non-trainable params: 0\n",
      "_________________________________________________________________\n",
      "None\n"
     ]
    }
   ],
   "source": [
    "#Convert train and test to sequences\n",
    "def to_supervised(train, n_input, n_out=4):\n",
    "    data = train.reshape((train.shape[0]*train.shape[1], train.shape[2]))\n",
    "    X, y = list(), list()\n",
    "    in_start = 0\n",
    "\n",
    "    for _ in range(len(data)):\n",
    "        in_end = in_start + n_input\n",
    "        out_end = in_end + n_out\n",
    "        if out_end < len(data):\n",
    "            x_input = data[in_start:in_end, 0]\n",
    "            x_input = x_input.reshape((len(x_input), 1))\n",
    "            X.append(x_input)\n",
    "            y.append(data[in_end:out_end, 0])\n",
    "\n",
    "        in_start += 1\n",
    "    return array(X), array(y)\n",
    " \n",
    "# build the model\n",
    "def build_model(train, n_steps, n_length, n_input):\n",
    "\n",
    "    train_x, train_y = to_supervised(train, n_input)\n",
    "    train_x.shape \n",
    "\n",
    "    verbose, epochs, batch_size = 1, 20, 16\n",
    "    n_timesteps, n_features, n_outputs = train_x.shape[1], train_x.shape[2], train_y.shape[1]\n",
    "\n",
    "    train_x = train_x.reshape((train_x.shape[0], n_steps, 1, n_length, n_features))\n",
    "    train_y = train_y.reshape((train_y.shape[0], train_y.shape[1], 1))\n",
    "    \n",
    "    model = Sequential()\n",
    "    model.add(ConvLSTM2D(filters=64, kernel_size=(1,3), activation='relu', input_shape=(n_steps, 1, n_length, n_features)))\n",
    "    model.add(Flatten())\n",
    "    model.add(RepeatVector(n_outputs))\n",
    "    model.add(LSTM(300, activation='relu', return_sequences=True))\n",
    "    model.add(TimeDistributed(Dense(100, activation='relu')))\n",
    "    model.add(TimeDistributed(Dense(1)))\n",
    "    model.compile(loss='mse', optimizer='adam')\n",
    "\n",
    "    model.fit(train_x, train_y, epochs=epochs, batch_size=batch_size, verbose=verbose)\n",
    "    return model\n",
    " \n",
    "# make a forecast\n",
    "def forecast(model, history, n_steps, n_length, n_input):\n",
    "\n",
    "    data = array(history)\n",
    "    data = data.reshape((data.shape[0]*data.shape[1], data.shape[2]))\n",
    "\n",
    "    input_x = data[-n_input:, 0]\n",
    "    input_x = input_x.reshape((1, n_steps, 1, n_length, 1))\n",
    "\n",
    "    yhat = model.predict(input_x, verbose=0)\n",
    "\n",
    "    yhat = yhat[0]\n",
    "    return yhat\n",
    " \n",
    "# give predictions\n",
    "def predict1(train, test, n_steps, n_length, n_input):\n",
    "\n",
    "    model = build_model(train, n_steps, n_length, n_input)\n",
    "    print(model.summary())\n",
    "    \n",
    "    \n",
    "    history = [x for x in train]\n",
    "\n",
    "    predictions = list()\n",
    "    for i in range(len(test)):\n",
    "\n",
    "        yhat_sequence = forecast(model, history, n_steps, n_length, n_input)      \n",
    "        predictions.append(yhat_sequence)\n",
    "        history.append(test[i, :])\n",
    "\n",
    "    \n",
    "    predictions = array(predictions)\n",
    "\n",
    "    return predictions\n",
    " \n",
    "\n",
    "\n",
    "train, test = split_dataset(df1.values)\n",
    "n_steps, n_length = 3, 4\n",
    "n_input = n_length * n_steps\n",
    "predictions = predict1(train, test, n_steps, n_length, n_input)\n"
   ]
  },
  {
   "cell_type": "code",
   "execution_count": 72,
   "metadata": {},
   "outputs": [
    {
     "data": {
      "text/plain": [
       "array([[[5.905087 ],\n",
       "        [6.043922 ],\n",
       "        [5.802685 ],\n",
       "        [5.7064905]],\n",
       "\n",
       "       [[5.9940863],\n",
       "        [6.0923743],\n",
       "        [5.69702  ],\n",
       "        [5.5591583]],\n",
       "\n",
       "       [[6.0200324],\n",
       "        [6.1096053],\n",
       "        [5.8124943],\n",
       "        [5.7069173]],\n",
       "\n",
       "       ...,\n",
       "\n",
       "       [[3.1839068],\n",
       "        [2.9123094],\n",
       "        [3.1327574],\n",
       "        [3.2865908]],\n",
       "\n",
       "       [[3.7980902],\n",
       "        [3.7748082],\n",
       "        [3.9808464],\n",
       "        [4.077849 ]],\n",
       "\n",
       "       [[2.2795498],\n",
       "        [2.2505107],\n",
       "        [2.3179996],\n",
       "        [2.364734 ]]], dtype=float32)"
      ]
     },
     "execution_count": 72,
     "metadata": {},
     "output_type": "execute_result"
    }
   ],
   "source": [
    "predictions"
   ]
  },
  {
   "cell_type": "code",
   "execution_count": 73,
   "metadata": {},
   "outputs": [
    {
     "name": "stdout",
     "output_type": "stream",
     "text": [
      "2.0957473279823353\n"
     ]
    }
   ],
   "source": [
    "#Calculating RMSE\n",
    "prf=predictions.astype(int)\n",
    "d = prf.flat\n",
    "pr=list(d)\n",
    "\n",
    "ac=test[:, :, 0]\n",
    "d1=ac.flat\n",
    "act=list(d1)\n",
    "\n",
    "from sklearn.metrics import mean_squared_error\n",
    "from math import sqrt\n",
    "\n",
    "rms = sqrt(mean_squared_error(act, pr))\n",
    "\n",
    "print(rms)"
   ]
  },
  {
   "cell_type": "code",
   "execution_count": 74,
   "metadata": {},
   "outputs": [
    {
     "name": "stderr",
     "output_type": "stream",
     "text": [
      "/Users/tbanerjee/anaconda3/lib/python3.6/site-packages/ipykernel_launcher.py:3: SettingWithCopyWarning: \n",
      "A value is trying to be set on a copy of a slice from a DataFrame.\n",
      "Try using .loc[row_indexer,col_indexer] = value instead\n",
      "\n",
      "See the caveats in the documentation: http://pandas.pydata.org/pandas-docs/stable/indexing.html#indexing-view-versus-copy\n",
      "  This is separate from the ipykernel package so we can avoid doing imports until\n",
      "/Users/tbanerjee/anaconda3/lib/python3.6/site-packages/ipykernel_launcher.py:4: SettingWithCopyWarning: \n",
      "A value is trying to be set on a copy of a slice from a DataFrame.\n",
      "Try using .loc[row_indexer,col_indexer] = value instead\n",
      "\n",
      "See the caveats in the documentation: http://pandas.pydata.org/pandas-docs/stable/indexing.html#indexing-view-versus-copy\n",
      "  after removing the cwd from sys.path.\n"
     ]
    },
    {
     "data": {
      "text/plain": [
       "<Figure size 432x288 with 0 Axes>"
      ]
     },
     "metadata": {},
     "output_type": "display_data"
    },
    {
     "data": {
      "image/png": "[encoded data removed]",
      "text/plain": [
       "<Figure size 432x288 with 1 Axes>"
      ]
     },
     "metadata": {},
     "output_type": "display_data"
    }
   ],
   "source": [
    "#Actual vs Predicted\n",
    "df2=df1.iloc[20352:]\n",
    "df2['Predicted']=pr\n",
    "df2['Actual']=act\n",
    "df2=df2.drop(['count'],axis=1)\n",
    "plot=df2.plot()\n",
    "plt.xlabel('Date', fontname = 'serif', fontsize = 14)\n",
    "plt.ylabel('Count', fontname = 'serif', fontsize = 14)\n",
    "\n",
    "plt.show()"
   ]
  },
  {
   "cell_type": "code",
   "execution_count": null,
   "metadata": {
    "collapsed": true
   },
   "outputs": [],
   "source": []
  }
 ],
 "metadata": {
  "kernelspec": {
   "display_name": "Python 3",
   "language": "python",
   "name": "python3"
  },
  "language_info": {
   "codemirror_mode": {
    "name": "ipython",
    "version": 3
   },
   "file_extension": ".py",
   "mimetype": "text/x-python",
   "name": "python",
   "nbconvert_exporter": "python",
   "pygments_lexer": "ipython3",
   "version": "3.6.3"
  }
 },
 "nbformat": 4,
 "nbformat_minor": 2
}
